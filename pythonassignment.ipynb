{
 "cells": [
  {
   "cell_type": "markdown",
   "metadata": {},
   "source": [
    "__Section 1:Conditional statements__"
   ]
  },
  {
   "cell_type": "markdown",
   "metadata": {},
   "source": [
    " \n",
    "1.Write a program that asks the user to enter a number and checkswhether the number is even or odd\n"
   ]
  },
  {
   "cell_type": "code",
   "execution_count": null,
   "metadata": {},
   "outputs": [
    {
     "name": "stdout",
     "output_type": "stream",
     "text": [
      "This is an even number.\n"
     ]
    }
   ],
   "source": [
    "n = int(input(\"Enter a number: \"))\n",
    "m = n % 2\n",
    "if m> 0:\n",
    "    print(\"This is an odd number.\")\n",
    "else:\n",
    "    print(\"This is an even number.\")"
   ]
  },
  {
   "cell_type": "markdown",
   "metadata": {},
   "source": [
    "2.Write a program that asks the user to enter a number and checkswhether it is positive, negative, or zero."
   ]
  },
  {
   "cell_type": "code",
   "execution_count": 8,
   "metadata": {},
   "outputs": [
    {
     "name": "stdout",
     "output_type": "stream",
     "text": [
      "It is a negative number\n"
     ]
    }
   ],
   "source": [
    "n = int(input(\"Input a number: \"))\n",
    "if n > 0:\n",
    "   print(\"It is a positive number\")\n",
    "elif n == 0:\n",
    "   print(\"It is zero\")\n",
    "else:\n",
    "   print(\"It is a negative number\")"
   ]
  },
  {
   "cell_type": "markdown",
   "metadata": {},
   "source": [
    "3.Write a program that asks the user to enter their age and checksif they are eligible to vote (18 years or older)."
   ]
  },
  {
   "cell_type": "code",
   "execution_count": 11,
   "metadata": {},
   "outputs": [
    {
     "name": "stdout",
     "output_type": "stream",
     "text": [
      "eligible for voting!\n"
     ]
    }
   ],
   "source": [
    "age = int(input(\"Enter age : \"))\n",
    "\n",
    "if age >= 18:\n",
    "    print(\"eligible for voting!\")\n",
    "else:\n",
    "    print(\"Not eligible for voting!\")"
   ]
  },
  {
   "cell_type": "markdown",
   "metadata": {},
   "source": [
    "4.Write a program that takes the lengths of three sides of atriangle as input and determines if the triangle is: Equilateral,Isosceles or Scalene."
   ]
  },
  {
   "cell_type": "code",
   "execution_count": 15,
   "metadata": {},
   "outputs": [
    {
     "name": "stdout",
     "output_type": "stream",
     "text": [
      "Scalene triangle\n"
     ]
    }
   ],
   "source": [
    "x = int(input(\"enter the lengthof first side: \"))\n",
    "y = int(input(\"enter the lengthof secind side: \"))\n",
    "z = int(input(\"enter the lengthof third side:\"))\n",
    "if x == y == z:\n",
    "    print(\"Equilateral triangle\")\n",
    "elif x == y or y == z or z == x:\n",
    "    print(\"Isosceles triangle\")\n",
    "else:\n",
    "    print(\"Scalene triangle\") "
   ]
  },
  {
   "cell_type": "markdown",
   "metadata": {},
   "source": [
    "5.Write a program that asks the user to enter a password and checks if it matches a predefined password (e.g., \"Python123\")."
   ]
  },
  {
   "cell_type": "code",
   "execution_count": 17,
   "metadata": {},
   "outputs": [
    {
     "name": "stdout",
     "output_type": "stream",
     "text": [
      "Your password matches\n"
     ]
    }
   ],
   "source": [
    "password=\"python123\"\n",
    "a=input(\"Enter the password:\")\n",
    "if password==a:\n",
    "    print(\"Your password matches\")\n",
    "else:\n",
    "    print(\"Your password does not match\")"
   ]
  },
  {
   "cell_type": "markdown",
   "metadata": {},
   "source": [
    "__Section2: For Loops__"
   ]
  },
  {
   "cell_type": "markdown",
   "metadata": {},
   "source": [
    "1.Write a Python program to print the multiplication table of a given number using a for loop."
   ]
  },
  {
   "cell_type": "code",
   "execution_count": 25,
   "metadata": {},
   "outputs": [
    {
     "name": "stdout",
     "output_type": "stream",
     "text": [
      "2X1=2\n",
      "2X2=4\n",
      "2X3=6\n",
      "2X4=8\n",
      "2X5=10\n",
      "2X6=12\n",
      "2X7=14\n",
      "2X8=16\n",
      "2X9=18\n",
      "2X10=20\n"
     ]
    }
   ],
   "source": [
    "multiplication=int(input(\"Enter any number :\"))\n",
    "\n",
    "for i in range(1,10+1):\n",
    "    print(f\"{multiplication}X{i}={multiplication*i}\")"
   ]
  },
  {
   "cell_type": "markdown",
   "metadata": {},
   "source": [
    "2.Write a program to count and display the number of vowels in a given string."
   ]
  },
  {
   "cell_type": "code",
   "execution_count": 26,
   "metadata": {},
   "outputs": [
    {
     "name": "stdout",
     "output_type": "stream",
     "text": [
      "heklo\n",
      "Number of vowels in the given the given string is 2\n"
     ]
    }
   ],
   "source": [
    "string=input(\"Enter the string:\")\n",
    "vowels=\"aeiouAEIOU\"\n",
    "count=0\n",
    "for char in string:\n",
    "    if char in vowels:\n",
    "        count+=1\n",
    "print(string)\n",
    "print(f\"Number of vowels in the given the given string is {count}\")"
   ]
  },
  {
   "cell_type": "markdown",
   "metadata": {},
   "source": [
    "3.Sum of Even Numbers Create a program to find the sum of all even numbers in a list using a for loop."
   ]
  },
  {
   "cell_type": "code",
   "execution_count": 30,
   "metadata": {},
   "outputs": [
    {
     "name": "stdout",
     "output_type": "stream",
     "text": [
      "Sum of even number in the given list is 108\n"
     ]
    }
   ],
   "source": [
    "list=[10,12,15,20,11,9,19,22,44]\n",
    "even=0\n",
    "for i in list:\n",
    "    if i%2==0:\n",
    "        even+=i\n",
    "print(f\"Sum of even number in the given list is {even}\")"
   ]
  },
  {
   "cell_type": "markdown",
   "metadata": {},
   "source": [
    "4.Create a program to find the largest and smallest numbers in a list using a for loop."
   ]
  },
  {
   "cell_type": "code",
   "execution_count": 32,
   "metadata": {},
   "outputs": [
    {
     "name": "stdout",
     "output_type": "stream",
     "text": [
      "Largest number:100\n",
      "Smallest number:1\n"
     ]
    }
   ],
   "source": [
    "list=[10,20,40,50,1,2,30,60,90,100]\n",
    "largest=list[0]\n",
    "smallest=list[0]\n",
    "\n",
    "for i in list:\n",
    "    if i >largest:\n",
    "        largest=i\n",
    "print(f\"Largest number:{largest}\")\n",
    "\n",
    "\n",
    "for i in list:\n",
    "    if i< smallest:\n",
    "        smallest=i\n",
    "\n",
    "print(f\"Smallest number:{smallest}\")"
   ]
  },
  {
   "cell_type": "markdown",
   "metadata": {},
   "source": [
    "5.Write a program to calculate the sum of digits of a given number using for loop."
   ]
  },
  {
   "cell_type": "code",
   "execution_count": 6,
   "metadata": {},
   "outputs": [
    {
     "name": "stdout",
     "output_type": "stream",
     "text": [
      "The total sum of digits is: 21\n"
     ]
    }
   ],
   "source": [
    "num=int(input(\"Enter a number:\"))\n",
    "total=0\n",
    "while(num>0):\n",
    "    digit=num%10\n",
    "    total=total+digit\n",
    "    num=num//10\n",
    "print(\"The total sum of digits is:\",total)"
   ]
  },
  {
   "cell_type": "markdown",
   "metadata": {},
   "source": [
    "6.Write a program to reverse a given string using a for loop."
   ]
  },
  {
   "cell_type": "code",
   "execution_count": 8,
   "metadata": {},
   "outputs": [
    {
     "name": "stdout",
     "output_type": "stream",
     "text": [
      "oleH\n"
     ]
    }
   ],
   "source": [
    "str=input(\"Enter the string:\")\n",
    "rev=\"\"\n",
    "for char in str:\n",
    "    rev=char+rev    \n",
    "print(rev)"
   ]
  },
  {
   "cell_type": "markdown",
   "metadata": {},
   "source": [
    "__Section 3: Functions__"
   ]
  },
  {
   "cell_type": "markdown",
   "metadata": {},
   "source": [
    "1.Factorial Function: Write a function factorial(n) that returns the factorial of a number using a for loop."
   ]
  },
  {
   "cell_type": "code",
   "execution_count": 13,
   "metadata": {},
   "outputs": [
    {
     "name": "stdout",
     "output_type": "stream",
     "text": [
      "Factorial number is 1\n",
      "Factorial number is 2\n",
      "Factorial number is 6\n"
     ]
    }
   ],
   "source": [
    "def factorial(num):\n",
    "    factor=1\n",
    "    for i in range(1,num+1):\n",
    "        factor*=i\n",
    "        print(f\"Factorial number is {factor}\")\n",
    "\n",
    "factorial(int(input(\"enter a number\")))"
   ]
  },
  {
   "cell_type": "markdown",
   "metadata": {},
   "source": [
    "2.Prime Check Function: Create a function is_prime(n) to check\n",
    "whether a number is prime."
   ]
  },
  {
   "cell_type": "code",
   "execution_count": 15,
   "metadata": {},
   "outputs": [
    {
     "data": {
      "text/plain": [
       "True"
      ]
     },
     "execution_count": 15,
     "metadata": {},
     "output_type": "execute_result"
    }
   ],
   "source": [
    "def prime(n):\n",
    "    c=0\n",
    "    for i in range (1,n+1):\n",
    "        if n%i==0:\n",
    "            c+=1\n",
    "    \n",
    "    if c==2:\n",
    "        return True\n",
    "    elif c==1:\n",
    "        return False\n",
    "    else:\n",
    "        return False\n",
    "    \n",
    "n=int(input(\"Enter the number:\"))\n",
    "prime(n)"
   ]
  },
  {
   "cell_type": "markdown",
   "metadata": {},
   "source": [
    "3. Find Maximum in List:Write a function find_max(lst) to find and\n",
    "return the maximum value in a list."
   ]
  },
  {
   "cell_type": "code",
   "execution_count": 18,
   "metadata": {},
   "outputs": [
    {
     "name": "stdout",
     "output_type": "stream",
     "text": [
      "67\n"
     ]
    }
   ],
   "source": [
    "def function():\n",
    "    list=[1,4,5,67,22,8,2,0]\n",
    "    max=list[0]\n",
    "    for i in list:\n",
    "        if i>max:\n",
    "             max=i\n",
    "    print(max)\n",
    "\n",
    "function()"
   ]
  },
  {
   "cell_type": "markdown",
   "metadata": {},
   "source": [
    "4. Write a function palindrome_check(string) that returns True if\n",
    "the given string is a palindrome, otherwise False."
   ]
  },
  {
   "cell_type": "code",
   "execution_count": 21,
   "metadata": {},
   "outputs": [
    {
     "name": "stdout",
     "output_type": "stream",
     "text": [
      "True\n"
     ]
    }
   ],
   "source": [
    "def palindrome_check(string):\n",
    "    rev=\"\"\n",
    "    for i in string:\n",
    "        rev=i+rev\n",
    "    return string == rev\n",
    "input_string = \"lol\"\n",
    "print(palindrome_check(input_string))  "
   ]
  },
  {
   "cell_type": "markdown",
   "metadata": {},
   "source": [
    "5. Write a function sum_of_squares(n) that returns the sum of\n",
    "squares of the first n natural numbers."
   ]
  },
  {
   "cell_type": "code",
   "execution_count": 31,
   "metadata": {},
   "outputs": [
    {
     "name": "stdout",
     "output_type": "stream",
     "text": [
      "5\n"
     ]
    }
   ],
   "source": [
    "def sum_of_square(n):\n",
    "    sum=0\n",
    "    for i in range(1,n+1):\n",
    "        sum+=i**2\n",
    "    print(sum)\n",
    "sum_of_square(2)"
   ]
  },
  {
   "cell_type": "markdown",
   "metadata": {},
   "source": [
    "6. Write a function sum_of_squares(n) that returns the sum of\n",
    "squares of the first n natural numbers."
   ]
  },
  {
   "cell_type": "code",
   "execution_count": 34,
   "metadata": {},
   "outputs": [
    {
     "name": "stdout",
     "output_type": "stream",
     "text": [
      "1^2+2^2+3^2+=14\n"
     ]
    }
   ],
   "source": [
    "def sum_of_square(n):\n",
    "    s=0\n",
    "    for i in range (1,n+1):\n",
    "        s+=i**2\n",
    "        print(f\"{i}^2+\",end='')\n",
    "    print(f\"={s}\")\n",
    "\n",
    "number=int(input(\"Enter the number upto which u want the square of:\"))\n",
    "sum_of_square(number)"
   ]
  },
  {
   "cell_type": "markdown",
   "metadata": {},
   "source": [
    "__Section 4: Classes__"
   ]
  },
  {
   "cell_type": "markdown",
   "metadata": {},
   "source": [
    "1. Rectangle Class:Define a class Rectangle with: \n",
    "\n",
    "○ Two attributes: length and width.\n",
    "\n",
    "○ A method area() to calculate the area.\n",
    "\n",
    "○ A method perimeter() to calculate the perimeter."
   ]
  },
  {
   "cell_type": "code",
   "execution_count": 41,
   "metadata": {},
   "outputs": [
    {
     "name": "stdout",
     "output_type": "stream",
     "text": [
      "Area of Rectangle 12\n",
      "None\n",
      "perimeter of Rectangle: 16\n",
      "None\n"
     ]
    }
   ],
   "source": [
    "class rectangle:\n",
    "    def area(self,length,width):\n",
    "        self.length=length\n",
    "        self.width=width\n",
    "        ar=self.length*self.width\n",
    "        print(\"Area of Rectangle\",ar)\n",
    "    def perimeter(self,length,width):\n",
    "        self.length=length\n",
    "        self.width=width\n",
    "        per=2*(self.length+self.width)\n",
    "        print(\"perimeter of Rectangle:\",per)\n",
    "        \n",
    "i=rectangle()\n",
    "print(i.area(4,3))\n",
    "print(i.perimeter(5,3))"
   ]
  },
  {
   "cell_type": "markdown",
   "metadata": {},
   "source": [
    "2. Student Class: Create a class Student with:\n",
    "\n",
    "○ Attributes: name, roll_number, and marks.\n",
    "\n",
    "○ A method display_details() to print the student's details.\n",
    "\n",
    "○ A method is_passed() that returns True if marks ≥ 40, else\n",
    "False."
   ]
  },
  {
   "cell_type": "code",
   "execution_count": 43,
   "metadata": {},
   "outputs": [
    {
     "name": "stdout",
     "output_type": "stream",
     "text": [
      "Student's Name: Subham\n",
      "Student's Roll No: 1\n",
      "Marks 80\n"
     ]
    },
    {
     "data": {
      "text/plain": [
       "True"
      ]
     },
     "execution_count": 43,
     "metadata": {},
     "output_type": "execute_result"
    }
   ],
   "source": [
    "class student:\n",
    "    def display_details(self,Name,roll_num,marks):\n",
    "        self.name=Name\n",
    "        self.roll_num=roll_num\n",
    "        self.marks=marks\n",
    "        print(\"Student's Name:\",self.name)\n",
    "        print(\"Student's Roll No:\",self.roll_num)\n",
    "        print(\"Marks\",self.marks)\n",
    "    def is_passed(self):\n",
    "        if self.marks>=40:\n",
    "            return True\n",
    "        else:\n",
    "            return False\n",
    "\n",
    "stud=student()\n",
    "stud.display_details(\"Subham\",1,80)\n",
    "stud.is_passed()"
   ]
  },
  {
   "cell_type": "markdown",
   "metadata": {},
   "source": [
    "3. Define a class Circle with:\n",
    "\n",
    "● Attribute: radius.\n",
    "\n",
    "● Methods: area() to calculate the area, circumference() to\n",
    "calculate the circumference."
   ]
  },
  {
   "cell_type": "code",
   "execution_count": 48,
   "metadata": {},
   "outputs": [
    {
     "name": "stdout",
     "output_type": "stream",
     "text": [
      "Area of circle: 12.568\n",
      "Circumference of circle: 12.568\n"
     ]
    }
   ],
   "source": [
    "class Circle:\n",
    "    def area(self):\n",
    "        radius=int(input(\"Enter the Area of circle:\"))\n",
    "        self.pi=3.142\n",
    "        rad_area = self.pi * radius**2\n",
    "        print(\"Area of circle:\",rad_area)\n",
    "\n",
    "    def circumference(self):\n",
    "        radius=int(input(\"Enter the Circumference of circle:\"))\n",
    "        circle_area=2*(self.pi*radius)\n",
    "\n",
    "        print(\"Circumference of circle:\",circle_area)\n",
    "cir=Circle()\n",
    "cir.area()\n",
    "cir.circumference()"
   ]
  },
  {
   "cell_type": "markdown",
   "metadata": {},
   "source": [
    "4. Create a class BankAccount with:\n",
    "\n",
    "● Attributes: account_number, account_holder, balance.\n",
    "\n",
    "● Methods:\n",
    "\n",
    "○ deposit(amount) to add money to the account.\n",
    "\n",
    "○ withdraw(amount) to subtract money (if sufficient\n",
    "balance is available).\n",
    "\n",
    "○ display_balance() to print the current balance."
   ]
  },
  {
   "cell_type": "code",
   "execution_count": 50,
   "metadata": {},
   "outputs": [
    {
     "name": "stdout",
     "output_type": "stream",
     "text": [
      "previous Balance 1000\n",
      "Deposit amount 2333\n",
      "previous balance: 3333\n",
      "Withdraw amount 3\n",
      "current balance: 3330\n"
     ]
    }
   ],
   "source": [
    "class BankAccount:\n",
    "    def __init__(self,account_num,account_holder,balance):\n",
    "        self.account_num=account_num\n",
    "        self.account_holder=account_holder\n",
    "        self.balance=balance\n",
    "    \n",
    "    def deposit(self,amount):\n",
    "        print(\"previous Balance\",self.balance)\n",
    "        self.balance+=amount\n",
    "        print(\"Deposit amount\",amount)\n",
    "        \n",
    "        \n",
    "    def withdraw(self,amount):\n",
    "        print(\"previous balance:\",self.balance)\n",
    "        if amount<=self.balance:\n",
    "            self.balance-=amount\n",
    "            print(\"Withdraw amount\",amount)\n",
    "        else:\n",
    "            print(\"Insufficient balance\")\n",
    "       \n",
    "\n",
    "    def display_balance(self):\n",
    "        print(\"current balance:\",self.balance)\n",
    "\n",
    "\n",
    "\n",
    "acc=BankAccount(189142325,\"Subham\",1000)\n",
    "dep=int(input(\"Enter the deposit amount:\"))\n",
    "with_drw=int(input(\"Enter the withdraw amount:\"))\n",
    "acc.deposit(dep)\n",
    "acc.withdraw(with_drw)\n",
    "acc.display_balance()"
   ]
  },
  {
   "cell_type": "markdown",
   "metadata": {},
   "source": [
    "5. A class Book with:\n",
    "\n",
    "● Attributes: title, author, price.\n",
    "\n",
    "● Methods:\n",
    "\n",
    "○ apply_discount(discount) to reduce the price by a\n",
    "given percentage.\n",
    "\n",
    "○ display_details() to print the book details."
   ]
  },
  {
   "cell_type": "code",
   "execution_count": 54,
   "metadata": {},
   "outputs": [
    {
     "name": "stdout",
     "output_type": "stream",
     "text": [
      "Title name: HELLO WORLD\n",
      "Author: Subham Khadka \n",
      "Book price after discount: 760.0\n"
     ]
    }
   ],
   "source": [
    "class Book:\n",
    "    def __init__(self,title,author,price):\n",
    "        self.title=title\n",
    "        self.author=author\n",
    "        self.price=price\n",
    "\n",
    "    def apply_discount(self, discount):\n",
    "        self.discount=discount\n",
    "        self.price=self.price-self.discount/100*self.price\n",
    "    \n",
    "    def display(self):\n",
    "        print(\"Title name:\",self.title)\n",
    "        print(\"Author:\",self.author)\n",
    "        print(\"Book price after discount:\",self.price)\n",
    "\n",
    "b=Book(\"HELLO WORLD\",\"Subham Khadka \",800)\n",
    "\n",
    "b.apply_discount(5)\n",
    "b.display()"
   ]
  },
  {
   "cell_type": "markdown",
   "metadata": {},
   "source": [
    "6. Create a class Calculator with:\n",
    "\n",
    "○ A method add(a, b) to add two numbers.\n",
    "\n",
    "○ A method subtract(a, b) to subtract two numbers.\n",
    "\n",
    "○ A method multiply(a, b) to multiply two numbers.\n",
    "\n",
    "○ A method divide(a, b) to divide two numbers (handle division\n",
    "by zero gracefully)."
   ]
  },
  {
   "cell_type": "code",
   "execution_count": 58,
   "metadata": {},
   "outputs": [
    {
     "name": "stdout",
     "output_type": "stream",
     "text": [
      "sum of two numbers : 19\n",
      "difference of two numbers: 40\n",
      "Multiplication of two numbers: 16\n",
      "Division of two numbers: 1.3333333333333333\n",
      "Cannot divide by zero\n"
     ]
    }
   ],
   "source": [
    "class calculator:\n",
    "    def Add(self, a,b):\n",
    "        print(\"sum of two numbers :\",a+b)\n",
    "    def Subtract(self,a,b):\n",
    "        print(\"difference of two numbers:\",a-b)\n",
    "    def Multiply(self ,a,b):\n",
    "        print(\"Multiplication of two numbers:\",a*b)\n",
    "\n",
    "    def Divide(self,a,b):\n",
    "        print(\"Division of two numbers:\",a/b)\n",
    "\n",
    "\n",
    "cal=calculator()\n",
    "cal.Add(9,10)\n",
    "cal.Subtract(44,4)\n",
    "cal.Multiply(2,8)\n",
    "cal.Divide(12,9)\n",
    "try:\n",
    "    cal.Divide(10, 0)\n",
    "except ZeroDivisionError:\n",
    "    print(\"Cannot divide by zero\")"
   ]
  },
  {
   "cell_type": "markdown",
   "metadata": {},
   "source": [
    "7. Write a class Person with:\n",
    "\n",
    "○ Attributes: name, age, gender.\n",
    "\n",
    "○ Method introduce() to print a message like: \"Hello, my name\n",
    "is [name], I am [age] years old, and I am a [gender].\"\n",
    "\n",
    "○ Create a subclass Employee that adds:\n",
    "■ Attribute: job_title.\n",
    "■ Override introduce() to include the job title."
   ]
  },
  {
   "cell_type": "code",
   "execution_count": 60,
   "metadata": {},
   "outputs": [
    {
     "name": "stdout",
     "output_type": "stream",
     "text": [
      "Hello, my name is Subham, I am 19 years old, I am a male, and I work as a Developer.\n"
     ]
    }
   ],
   "source": [
    "class Person:\n",
    "    def __init__(self, name, age, gender):\n",
    "        self.name = name\n",
    "        self.age = age\n",
    "        self.gender = gender\n",
    "    def introduce(self):\n",
    "        print(f\"Hello, my name is {self.name}, I am {self.age} years old, and I am a {self.gender}.\")\n",
    "class Employee(Person):\n",
    "    def __init__(self, name, age, gender, job_title):\n",
    "        super().__init__(name, age, gender)\n",
    "        self.job_title = job_title\n",
    "\n",
    "    def introduce(self):\n",
    "        print(f\"Hello, my name is {self.name}, I am {self.age} years old, I am a {self.gender}, and I work as a {self.job_title}.\")\n",
    "emp = Employee(\"Subham\", 19, \"male\", \"Developer\")\n",
    "emp.introduce()"
   ]
  },
  {
   "cell_type": "markdown",
   "metadata": {},
   "source": [
    "__Section 5: File Handling__"
   ]
  },
  {
   "cell_type": "markdown",
   "metadata": {},
   "source": [
    "1. File Creation and Writing: Write a Python script to:\n",
    "\n",
    "○ Create a file named data.txt.\n",
    "\n",
    "○ Write the numbers from 1 to 10 (each on a new line) to the\n",
    "file.\n",
    "\n",
    "○ Read the file and print its contents."
   ]
  },
  {
   "cell_type": "code",
   "execution_count": 65,
   "metadata": {},
   "outputs": [],
   "source": [
    "with open('data.txt', 'w') as file:\n",
    "    for number in range(1, 11):\n",
    "        file.write(f\"{number}\\n\")"
   ]
  },
  {
   "cell_type": "code",
   "execution_count": 66,
   "metadata": {},
   "outputs": [
    {
     "name": "stdout",
     "output_type": "stream",
     "text": [
      "1\n",
      "2\n",
      "3\n",
      "4\n",
      "5\n",
      "6\n",
      "7\n",
      "8\n",
      "9\n",
      "10\n",
      "\n"
     ]
    }
   ],
   "source": [
    "with open('data.txt', 'r') as file:\n",
    "    content = file.read()\n",
    "    print(content)"
   ]
  },
  {
   "cell_type": "markdown",
   "metadata": {},
   "source": [
    "2. Word Count in File: Write a program that reads a file named\n",
    "sample.txt, counts the number of words in it, and prints the\n",
    "result."
   ]
  },
  {
   "cell_type": "code",
   "execution_count": 70,
   "metadata": {},
   "outputs": [
    {
     "name": "stdout",
     "output_type": "stream",
     "text": [
      "Number of words in 'data.txt': 10\n"
     ]
    }
   ],
   "source": [
    "with open('data.txt', 'r') as file:\n",
    "        contents = file.read()\n",
    "        word_count = len(content.split())\n",
    "        print(f\"Number of words in 'data.txt': {word_count}\")"
   ]
  },
  {
   "cell_type": "markdown",
   "metadata": {},
   "source": [
    "__Section 5: Error Handling__"
   ]
  },
  {
   "cell_type": "markdown",
   "metadata": {},
   "source": [
    "1. Division with Error Handling: Write a program that takes two\n",
    "numbers as input and divides the first number by the second.\n",
    "\n",
    "○ Use try and except to handle the division by zero error."
   ]
  },
  {
   "cell_type": "code",
   "execution_count": 71,
   "metadata": {},
   "outputs": [
    {
     "name": "stdout",
     "output_type": "stream",
     "text": [
      "Cannot divide by zero\n"
     ]
    }
   ],
   "source": [
    "a=int(input(\"Enter the first number:\"))\n",
    "b=int(input(\"Enter the second number:\"))\n",
    "\n",
    "try:\n",
    "    divide = a / b\n",
    "    print(divide)\n",
    "except ZeroDivisionError:\n",
    "    \n",
    "    print(\"Cannot divide by zero\")"
   ]
  },
  {
   "cell_type": "markdown",
   "metadata": {},
   "source": [
    "2. Integer Input Validation: Create a program that asks the user to\n",
    "input an integer.\n",
    "\n",
    "○ Use try, except, and else to handle invalid input."
   ]
  },
  {
   "cell_type": "code",
   "execution_count": 75,
   "metadata": {},
   "outputs": [
    {
     "name": "stdout",
     "output_type": "stream",
     "text": [
      "Invalid input.\n"
     ]
    }
   ],
   "source": [
    "try:\n",
    "    user_input = int(input(\"Please enter an integer: \"))\n",
    "except ValueError:\n",
    "    print(\"Invalid input.\")\n",
    "else:\n",
    "    print(f\"You entered an integer: {user_input}\")"
   ]
  },
  {
   "cell_type": "markdown",
   "metadata": {},
   "source": [
    "3. File Not Found Error Handling: Write a script that:\n",
    "\n",
    "○ Opens a file named unknown.txt.\n",
    "\n",
    "○ Handles the FileNotFoundError gracefully and prints an\n",
    "appropriate message."
   ]
  },
  {
   "cell_type": "code",
   "execution_count": 76,
   "metadata": {},
   "outputs": [
    {
     "name": "stdout",
     "output_type": "stream",
     "text": [
      "The file 'unknown.txt' was not found.\n"
     ]
    }
   ],
   "source": [
    "try:\n",
    "    with open(\"unknown.txt\", \"r\") as file:\n",
    "        content = file.read()\n",
    "        print(content)\n",
    "except FileNotFoundError:\n",
    "    print(\"The file 'unknown.txt' was not found.\")\n"
   ]
  }
 ],
 "metadata": {
  "kernelspec": {
   "display_name": "Python 3",
   "language": "python",
   "name": "python3"
  },
  "language_info": {
   "codemirror_mode": {
    "name": "ipython",
    "version": 3
   },
   "file_extension": ".py",
   "mimetype": "text/x-python",
   "name": "python",
   "nbconvert_exporter": "python",
   "pygments_lexer": "ipython3",
   "version": "3.13.0"
  }
 },
 "nbformat": 4,
 "nbformat_minor": 2
}
