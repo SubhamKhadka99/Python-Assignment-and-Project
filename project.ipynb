{
 "cells": [
  {
   "cell_type": "markdown",
   "metadata": {},
   "source": [
    "__RANDOM PASSWORD GENERATOR__"
   ]
  },
  {
   "cell_type": "code",
   "execution_count": 7,
   "metadata": {},
   "outputs": [
    {
     "name": "stdout",
     "output_type": "stream",
     "text": [
      "Welcome to Password Generator!\n",
      "\n",
      "Generated Password: tEcnQTe0Z3\n"
     ]
    }
   ],
   "source": [
    "\n",
    "import string\n",
    "\n",
    "def generate_password(length=9, use_upper=True, use_digits=True, use_special=True):\n",
    "    characters = string.ascii_lowercase\n",
    "    if use_upper:\n",
    "        characters += string.ascii_uppercase\n",
    "    if use_digits:\n",
    "        characters += string.digits\n",
    "    if use_special:\n",
    "        characters += string.punctuation\n",
    "    \n",
    "    password = ''.join(random.choice(characters) for _ in range(length))\n",
    "    return password\n",
    "\n",
    "def main():\n",
    "    print(\"Welcome to Password Generator!\")\n",
    "    try:\n",
    "        length = int(input(\"Enter password length (default is 8): \") or 8)\n",
    "        use_upper = input(\"Include uppercase letters? (y/n, default is y): \").lower() != 'n'\n",
    "        use_digits = input(\"Include numbers? (y/n, default is y): \").lower() != 'n'\n",
    "        use_special = input(\"Include special characters? (y/n, default is y): \").lower() != 'n'\n",
    "        \n",
    "        password = generate_password(length, use_upper, use_digits, use_special)\n",
    "        print(f\"\\nGenerated Password: {password}\")\n",
    "    except ValueError:\n",
    "        print(\"Invalid input. Please enter a valid number for the password length.\")\n",
    "\n",
    "if __name__ == \"__main__\":\n",
    "    main()"
   ]
  },
  {
   "cell_type": "code",
   "execution_count": null,
   "metadata": {},
   "outputs": [],
   "source": []
  }
 ],
 "metadata": {
  "kernelspec": {
   "display_name": "Python 3",
   "language": "python",
   "name": "python3"
  },
  "language_info": {
   "codemirror_mode": {
    "name": "ipython",
    "version": 3
   },
   "file_extension": ".py",
   "mimetype": "text/x-python",
   "name": "python",
   "nbconvert_exporter": "python",
   "pygments_lexer": "ipython3",
   "version": "3.13.0"
  }
 },
 "nbformat": 4,
 "nbformat_minor": 2
}
